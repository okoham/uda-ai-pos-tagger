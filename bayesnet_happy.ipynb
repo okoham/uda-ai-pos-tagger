{
 "cells": [
  {
   "cell_type": "markdown",
   "metadata": {},
   "source": [
    "# Happiness Example (Udacity Lecture)\n",
    "\n",
    "two causes: \n",
    "- happy (y/n), \n",
    "- (pay) raise (y/n)\n",
    "\n",
    "effect: \n",
    "- happy (y/n)"
   ]
  },
  {
   "cell_type": "code",
   "execution_count": 49,
   "metadata": {},
   "outputs": [],
   "source": [
    "%matplotlib inline\n",
    "import numpy as np\n",
    "from pomegranate import *"
   ]
  },
  {
   "cell_type": "code",
   "execution_count": 67,
   "metadata": {},
   "outputs": [],
   "source": [
    "# prior probabilities\n",
    "sunny = DiscreteDistribution({'sunny': 0.7, 'not_sunny': 0.3})\n",
    "payraise = DiscreteDistribution({'raise': 0.01, 'no_raise': 0.99})\n",
    "\n",
    "# sunny, raise, happy: p(h|s, r)\n",
    "happy = ConditionalProbabilityTable(\n",
    "    [[ 'sunny', 'raise', 'happy', 1.0 ],\n",
    "     [ 'sunny', 'raise', 'unhappy', 0.0 ],\n",
    "     [ 'sunny', 'no_raise', 'happy', 0.7 ],\n",
    "     [ 'sunny', 'no_raise', 'unhappy', 0.3 ],\n",
    "     [ 'not_sunny', 'raise', 'happy', 0.9 ],\n",
    "     [ 'not_sunny', 'raise', 'unhappy', 0.1 ],\n",
    "     [ 'not_sunny', 'no_raise', 'happy', 0.1 ],\n",
    "     [ 'not_sunny', 'no_raise', 'unhappy', 0.9 ]], [sunny, payraise])\n",
    "\n",
    "s0 = State(sunny, name=\"sunny\" )\n",
    "s1 = State(payraise, name=\"payraise\" )\n",
    "s2 = State(happy, name=\"happy\" )\n",
    "\n",
    "network = BayesianNetwork(\"HappyExample\")\n",
    "network.add_nodes(s0, s1, s2)\n",
    "\n",
    "network.add_edge(s0, s2)\n",
    "network.add_edge(s1, s2)\n",
    "\n",
    "network.bake()"
   ]
  },
  {
   "cell_type": "markdown",
   "metadata": {},
   "source": [
    "### Show probabilities"
   ]
  },
  {
   "cell_type": "code",
   "execution_count": 74,
   "metadata": {},
   "outputs": [
    {
     "name": "stdout",
     "output_type": "stream",
     "text": [
      "0.0\n",
      "1.0\n"
     ]
    }
   ],
   "source": [
    "print(happy.probability(('sunny', 'raise', 'unhappy')))\n",
    "print(happy.probability(('sunny', 'raise', 'happy')))\n"
   ]
  },
  {
   "cell_type": "code",
   "execution_count": 81,
   "metadata": {},
   "outputs": [
    {
     "data": {
      "text/plain": [
       "array([{\n",
       "    \"class\" :\"Distribution\",\n",
       "    \"dtype\" :\"str\",\n",
       "    \"name\" :\"DiscreteDistribution\",\n",
       "    \"parameters\" :[\n",
       "        {\n",
       "            \"sunny\" :0.6999999999999997,\n",
       "            \"not_sunny\" :0.3000000000000002\n",
       "        }\n",
       "    ],\n",
       "    \"frozen\" :false\n",
       "},\n",
       "       {\n",
       "    \"class\" :\"Distribution\",\n",
       "    \"dtype\" :\"str\",\n",
       "    \"name\" :\"DiscreteDistribution\",\n",
       "    \"parameters\" :[\n",
       "        {\n",
       "            \"raise\" :0.010000000000000437,\n",
       "            \"no_raise\" :0.9899999999999995\n",
       "        }\n",
       "    ],\n",
       "    \"frozen\" :false\n",
       "},\n",
       "       {\n",
       "    \"class\" :\"Distribution\",\n",
       "    \"dtype\" :\"str\",\n",
       "    \"name\" :\"DiscreteDistribution\",\n",
       "    \"parameters\" :[\n",
       "        {\n",
       "            \"happy\" :0.5245,\n",
       "            \"unhappy\" :0.4755\n",
       "        }\n",
       "    ],\n",
       "    \"frozen\" :false\n",
       "}], dtype=object)"
      ]
     },
     "execution_count": 81,
     "metadata": {},
     "output_type": "execute_result"
    }
   ],
   "source": [
    "# marginal probas\n",
    "network.predict_proba({})"
   ]
  },
  {
   "cell_type": "markdown",
   "metadata": {},
   "source": [
    "### Question 1: Probability of a raise given it is sunny?\n",
    "\n",
    "0.01"
   ]
  },
  {
   "cell_type": "code",
   "execution_count": 76,
   "metadata": {},
   "outputs": [
    {
     "data": {
      "text/plain": [
       "[array(['sunny',\n",
       "        {\n",
       "     \"class\" :\"Distribution\",\n",
       "     \"dtype\" :\"str\",\n",
       "     \"name\" :\"DiscreteDistribution\",\n",
       "     \"parameters\" :[\n",
       "         {\n",
       "             \"raise\" :0.010000000000000443,\n",
       "             \"no_raise\" :0.9899999999999995\n",
       "         }\n",
       "     ],\n",
       "     \"frozen\" :false\n",
       " },\n",
       "        {\n",
       "     \"class\" :\"Distribution\",\n",
       "     \"dtype\" :\"str\",\n",
       "     \"name\" :\"DiscreteDistribution\",\n",
       "     \"parameters\" :[\n",
       "         {\n",
       "             \"happy\" :0.703,\n",
       "             \"unhappy\" :0.29700000000000004\n",
       "         }\n",
       "     ],\n",
       "     \"frozen\" :false\n",
       " }], dtype=object)]"
      ]
     },
     "execution_count": 76,
     "metadata": {},
     "output_type": "execute_result"
    }
   ],
   "source": [
    "network.predict_proba([['sunny', None, None]])"
   ]
  },
  {
   "cell_type": "markdown",
   "metadata": {},
   "source": [
    "### What's the probability of a raise given that I'm happy and it's sunny?\n",
    "\n",
    "P(R|H,S) = 0.0142"
   ]
  },
  {
   "cell_type": "code",
   "execution_count": 77,
   "metadata": {},
   "outputs": [
    {
     "data": {
      "text/plain": [
       "[array(['sunny',\n",
       "        {\n",
       "     \"class\" :\"Distribution\",\n",
       "     \"dtype\" :\"str\",\n",
       "     \"name\" :\"DiscreteDistribution\",\n",
       "     \"parameters\" :[\n",
       "         {\n",
       "             \"raise\" :0.014224751066856951,\n",
       "             \"no_raise\" :0.9857752489331431\n",
       "         }\n",
       "     ],\n",
       "     \"frozen\" :false\n",
       " },\n",
       "        'happy'], dtype=object)]"
      ]
     },
     "execution_count": 77,
     "metadata": {},
     "output_type": "execute_result"
    }
   ],
   "source": [
    "network.predict_proba([['sunny', None, 'happy']])"
   ]
  },
  {
   "cell_type": "markdown",
   "metadata": {},
   "source": [
    "### What is the probability of a raise given that all I know is that I am happy?\n",
    "\n",
    "P(R|H) = 0.0185"
   ]
  },
  {
   "cell_type": "code",
   "execution_count": 78,
   "metadata": {},
   "outputs": [
    {
     "data": {
      "text/plain": [
       "[array([{\n",
       "     \"class\" :\"Distribution\",\n",
       "     \"dtype\" :\"str\",\n",
       "     \"name\" :\"DiscreteDistribution\",\n",
       "     \"parameters\" :[\n",
       "         {\n",
       "             \"sunny\" :0.9382268827454716,\n",
       "             \"not_sunny\" :0.061773117254528345\n",
       "         }\n",
       "     ],\n",
       "     \"frozen\" :false\n",
       " },\n",
       "        {\n",
       "     \"class\" :\"Distribution\",\n",
       "     \"dtype\" :\"str\",\n",
       "     \"name\" :\"DiscreteDistribution\",\n",
       "     \"parameters\" :[\n",
       "         {\n",
       "             \"raise\" :0.018493803622498417,\n",
       "             \"no_raise\" :0.9815061963775016\n",
       "         }\n",
       "     ],\n",
       "     \"frozen\" :false\n",
       " },\n",
       "        'happy'], dtype=object)]"
      ]
     },
     "execution_count": 78,
     "metadata": {},
     "output_type": "execute_result"
    }
   ],
   "source": [
    "network.predict_proba([[None, None, 'happy']])"
   ]
  },
  {
   "cell_type": "markdown",
   "metadata": {},
   "source": [
    "### What is the probability of a raise given that I look happy and it’s not sunny?\n",
    "\n"
   ]
  },
  {
   "cell_type": "code",
   "execution_count": 79,
   "metadata": {},
   "outputs": [
    {
     "data": {
      "text/plain": [
       "[array(['not_sunny',\n",
       "        {\n",
       "     \"class\" :\"Distribution\",\n",
       "     \"dtype\" :\"str\",\n",
       "     \"name\" :\"DiscreteDistribution\",\n",
       "     \"parameters\" :[\n",
       "         {\n",
       "             \"raise\" :0.08333333333333658,\n",
       "             \"no_raise\" :0.9166666666666634\n",
       "         }\n",
       "     ],\n",
       "     \"frozen\" :false\n",
       " },\n",
       "        'happy'], dtype=object)]"
      ]
     },
     "execution_count": 79,
     "metadata": {},
     "output_type": "execute_result"
    }
   ],
   "source": [
    "network.predict_proba([['not_sunny', None, 'happy']])"
   ]
  },
  {
   "cell_type": "code",
   "execution_count": null,
   "metadata": {},
   "outputs": [],
   "source": []
  }
 ],
 "metadata": {
  "kernelspec": {
   "display_name": "Python 3",
   "language": "python",
   "name": "python3"
  },
  "language_info": {
   "codemirror_mode": {
    "name": "ipython",
    "version": 3
   },
   "file_extension": ".py",
   "mimetype": "text/x-python",
   "name": "python",
   "nbconvert_exporter": "python",
   "pygments_lexer": "ipython3",
   "version": "3.6.8"
  }
 },
 "nbformat": 4,
 "nbformat_minor": 4
}
