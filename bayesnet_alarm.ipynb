{
 "cells": [
  {
   "cell_type": "markdown",
   "metadata": {},
   "source": [
    "# Alarm Example (AIMA Ch. 14)\n",
    "\n",
    "- burglary\n",
    "- earthquake\n",
    "- alarm\n",
    "- john calls\n",
    "- mary calls\n"
   ]
  },
  {
   "cell_type": "code",
   "execution_count": 2,
   "metadata": {},
   "outputs": [],
   "source": [
    "%matplotlib inline\n",
    "import numpy as np\n",
    "from pomegranate import *"
   ]
  },
  {
   "cell_type": "code",
   "execution_count": 3,
   "metadata": {},
   "outputs": [],
   "source": [
    "# prior probabilities\n",
    "burglary = DiscreteDistribution({'+b': 0.001, '-b': 0.999})\n",
    "earthquake = DiscreteDistribution({'+e': 0.002, '-e': 0.998})\n",
    "\n",
    "# burglary, earthquake, alarm: p(a|b, e)\n",
    "alarm = ConditionalProbabilityTable(\n",
    "    [[ '+b',  '+e',  '+a',  0.95 ],\n",
    "     [ '+b',  '+e',  '-a', 0.05 ],\n",
    "     [ '+b',  '-e', '+a',  0.94 ],\n",
    "     [ '+b',  '-e', '-a', 0.06 ],\n",
    "     [ '-b', '+e',  '+a',  0.29 ],\n",
    "     [ '-b', '+e',  '-a', 0.71 ],\n",
    "     [ '-b', '-e', '+a',  0.001 ],\n",
    "     [ '-b', '-e', '-a', 0.999 ]], [burglary, earthquake])\n",
    "\n",
    "john_calls = ConditionalProbabilityTable(\n",
    "    [['+a',  '+j',  0.90 ],\n",
    "     ['+a',  '-j', 0.10 ],\n",
    "     ['-a', '+j',  0.05 ],\n",
    "     ['-a', '-j', 0.95 ]], [alarm])\n",
    "\n",
    "mary_calls = ConditionalProbabilityTable(\n",
    "    [['+a',  '+m',  0.70 ],\n",
    "     ['+a',  '-m', 0.30 ],\n",
    "     ['-a', '+m',  0.01 ],\n",
    "     ['-a', '-m', 0.99 ]], [alarm])\n",
    "\n",
    "\n",
    "s0 = State(burglary, name=\"burglary\")\n",
    "s1 = State(earthquake, name=\"earthquake\")\n",
    "s2 = State(alarm, name=\"alarm\")\n",
    "s3 = State(john_calls, name=\"john_calls\")\n",
    "s4 = State(mary_calls, name=\"mary_calls\")\n",
    "\n",
    "network = BayesianNetwork(\"AlarmExample\")\n",
    "network.add_nodes(s0, s1, s2, s3, s4)\n",
    "\n",
    "network.add_edge(s0, s2)\n",
    "network.add_edge(s1, s2)\n",
    "network.add_edge(s2, s3)\n",
    "network.add_edge(s2, s4)\n",
    "\n",
    "network.bake()"
   ]
  },
  {
   "cell_type": "code",
   "execution_count": 4,
   "metadata": {},
   "outputs": [
    {
     "data": {
      "text/plain": [
       "((), (), (0, 1), (2,), (2,))"
      ]
     },
     "execution_count": 4,
     "metadata": {},
     "output_type": "execute_result"
    }
   ],
   "source": [
    "network.structure"
   ]
  },
  {
   "cell_type": "markdown",
   "metadata": {},
   "source": [
    "### Question 1\n",
    "\n",
    "Calculate the probability that the alarm has sounded, but neither a burglary nor an earthquake has occurred, and both John and Mary call\n",
    "\n",
    "0.000628"
   ]
  },
  {
   "cell_type": "code",
   "execution_count": 5,
   "metadata": {},
   "outputs": [
    {
     "data": {
      "text/plain": [
       "0.0006281112600000005"
      ]
     },
     "execution_count": 5,
     "metadata": {},
     "output_type": "execute_result"
    }
   ],
   "source": [
    "# burglary, earthquake, alarm, john_calls, mary_calls\n",
    "network.probability([['-b', '-e', '+a', '+j', '+m']])"
   ]
  },
  {
   "cell_type": "markdown",
   "metadata": {},
   "source": [
    "### Question 2\n",
    "\n",
    "P(Burglary | JohnCalls=true, MaryCalls=true) =  < 0.284, 0.716 >"
   ]
  },
  {
   "cell_type": "code",
   "execution_count": 6,
   "metadata": {},
   "outputs": [
    {
     "data": {
      "text/plain": [
       "[array([{\n",
       "     \"class\" :\"Distribution\",\n",
       "     \"dtype\" :\"str\",\n",
       "     \"name\" :\"DiscreteDistribution\",\n",
       "     \"parameters\" :[\n",
       "         {\n",
       "             \"+b\" :0.2841718353644582,\n",
       "             \"-b\" :0.7158281646355419\n",
       "         }\n",
       "     ],\n",
       "     \"frozen\" :false\n",
       " },\n",
       "        {\n",
       "     \"class\" :\"Distribution\",\n",
       "     \"dtype\" :\"str\",\n",
       "     \"name\" :\"DiscreteDistribution\",\n",
       "     \"parameters\" :[\n",
       "         {\n",
       "             \"+e\" :0.17606683840509593,\n",
       "             \"-e\" :0.823933161594904\n",
       "         }\n",
       "     ],\n",
       "     \"frozen\" :false\n",
       " },\n",
       "        {\n",
       "     \"class\" :\"Distribution\",\n",
       "     \"dtype\" :\"str\",\n",
       "     \"name\" :\"DiscreteDistribution\",\n",
       "     \"parameters\" :[\n",
       "         {\n",
       "             \"-a\" :0.2393079611368433,\n",
       "             \"+a\" :0.7606920388631566\n",
       "         }\n",
       "     ],\n",
       "     \"frozen\" :false\n",
       " },\n",
       "        '+j', '+m'], dtype=object)]"
      ]
     },
     "execution_count": 6,
     "metadata": {},
     "output_type": "execute_result"
    }
   ],
   "source": [
    "network.predict_proba([[None, None, None, '+j', '+m']])"
   ]
  },
  {
   "cell_type": "markdown",
   "metadata": {},
   "source": [
    "###  Question 3"
   ]
  },
  {
   "cell_type": "code",
   "execution_count": 8,
   "metadata": {},
   "outputs": [
    {
     "data": {
      "text/plain": [
       "0.0010000000000000002"
      ]
     },
     "execution_count": 8,
     "metadata": {},
     "output_type": "execute_result"
    }
   ],
   "source": [
    "# P(+b)\n",
    "network.probability([[\"+b\", None, None, None, None]])"
   ]
  },
  {
   "cell_type": "code",
   "execution_count": 9,
   "metadata": {},
   "outputs": [
    {
     "ename": "TypeError",
     "evalue": "probability() takes exactly one argument (0 given)",
     "output_type": "error",
     "traceback": [
      "\u001b[1;31m---------------------------------------------------------------------------\u001b[0m",
      "\u001b[1;31mTypeError\u001b[0m                                 Traceback (most recent call last)",
      "\u001b[1;32m<ipython-input-9-1db2c9d4670a>\u001b[0m in \u001b[0;36m<module>\u001b[1;34m\u001b[0m\n\u001b[1;32m----> 1\u001b[1;33m \u001b[0mearthquake\u001b[0m\u001b[1;33m.\u001b[0m\u001b[0mprobability\u001b[0m\u001b[1;33m(\u001b[0m\u001b[1;33m)\u001b[0m\u001b[1;33m\u001b[0m\u001b[1;33m\u001b[0m\u001b[0m\n\u001b[0m",
      "\u001b[1;31mTypeError\u001b[0m: probability() takes exactly one argument (0 given)"
     ]
    }
   ],
   "source": []
  },
  {
   "cell_type": "code",
   "execution_count": null,
   "metadata": {},
   "outputs": [],
   "source": []
  }
 ],
 "metadata": {
  "kernelspec": {
   "display_name": "Python 3",
   "language": "python",
   "name": "python3"
  },
  "language_info": {
   "codemirror_mode": {
    "name": "ipython",
    "version": 3
   },
   "file_extension": ".py",
   "mimetype": "text/x-python",
   "name": "python",
   "nbconvert_exporter": "python",
   "pygments_lexer": "ipython3",
   "version": "3.6.8"
  }
 },
 "nbformat": 4,
 "nbformat_minor": 4
}
